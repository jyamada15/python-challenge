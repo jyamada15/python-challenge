{
 "cells": [
  {
   "cell_type": "code",
   "execution_count": 192,
   "metadata": {},
   "outputs": [],
   "source": [
    "import os\n",
    "import csv\n",
    "import pandas as pd\n",
    "\n",
    "os.chdir(\"C:\\\\Users\\\\Jeff\\\\Documents\\\\BootCamp\\\\USCRepository\\\\USCLOS201805DATA1-Class-Repository-DATA\\\\02-Homework\\\\03-Python\\\\Instructions\\\\PyPoll\\\\raw_data\")\n",
    "csvpath=os.path.join('..','raw_data','election_data_1.csv')\n",
    "\n",
    "dset1 = pd.read_csv(csvpath)\n"
   ]
  },
  {
   "cell_type": "code",
   "execution_count": 193,
   "metadata": {},
   "outputs": [],
   "source": [
    "os.chdir(\"C:\\\\Users\\\\Jeff\\\\Documents\\\\BootCamp\\\\USCRepository\\\\USCLOS201805DATA1-Class-Repository-DATA\\\\02-Homework\\\\03-Python\\\\Instructions\\\\PyPoll\\\\raw_data\")\n",
    "csvpath=os.path.join('..','raw_data','election_data_2.csv')\n",
    "\n",
    "dset2 = pd.read_csv(csvpath)\n"
   ]
  },
  {
   "cell_type": "code",
   "execution_count": 195,
   "metadata": {},
   "outputs": [],
   "source": [
    "combi = [dset1,dset2]\n",
    "dsetcombi = pd.concat(combi)"
   ]
  },
  {
   "cell_type": "code",
   "execution_count": 197,
   "metadata": {},
   "outputs": [],
   "source": [
    "total_votes = dsetcombi[\"Voter ID\"].count()"
   ]
  },
  {
   "cell_type": "code",
   "execution_count": 198,
   "metadata": {
    "scrolled": false
   },
   "outputs": [],
   "source": [
    "results= dsetcombi[\"Candidate\"].value_counts(sort=True)\n",
    "results_candidates = dsetcombi[\"Candidate\"].value_counts(sort=True).keys().tolist()\n",
    "results_votes = dsetcombi[\"Candidate\"].value_counts(sort=True).tolist()\n",
    "results_perc = dsetcombi[\"Candidate\"].value_counts(sort=True).tolist()/total_votes"
   ]
  },
  {
   "cell_type": "code",
   "execution_count": 199,
   "metadata": {},
   "outputs": [
    {
     "name": "stdout",
     "output_type": "stream",
     "text": [
      "Election Results\n"
     ]
    }
   ],
   "source": [
    "print(f'Election Results')"
   ]
  },
  {
   "cell_type": "code",
   "execution_count": 200,
   "metadata": {},
   "outputs": [
    {
     "name": "stdout",
     "output_type": "stream",
     "text": [
      "------------------------\n"
     ]
    }
   ],
   "source": [
    "print(f'------------------------')"
   ]
  },
  {
   "cell_type": "code",
   "execution_count": 201,
   "metadata": {},
   "outputs": [
    {
     "name": "stdout",
     "output_type": "stream",
     "text": [
      "Total Votes:  4324001\n"
     ]
    }
   ],
   "source": [
    "print(f'Total Votes: ',total_votes)"
   ]
  },
  {
   "cell_type": "code",
   "execution_count": 202,
   "metadata": {},
   "outputs": [
    {
     "name": "stdout",
     "output_type": "stream",
     "text": [
      "------------------------\n"
     ]
    }
   ],
   "source": [
    "print(f'------------------------')"
   ]
  },
  {
   "cell_type": "code",
   "execution_count": 220,
   "metadata": {},
   "outputs": [
    {
     "name": "stdout",
     "output_type": "stream",
     "text": [
      "Khan: 51.3% (2218231)\n",
      "Correy: 16.3% (704200)\n",
      "Li: 11.4% (492940)\n",
      "Vestal: 8.9% (385440)\n",
      "Torres: 8.2% (353320)\n",
      "O'Tooley: 2.4% (105630)\n",
      "Seth: 0.9% (40150)\n",
      "Cordin: 0.6% (24090)\n"
     ]
    }
   ],
   "source": [
    "loop_count =0\n",
    "txt_results = []\n",
    "for cand in results_candidates:\n",
    "    txt_results.append(cand + \": \" + \"{:.1%}\".format(results_perc[loop_count]) + \" (\" + str(results_votes[loop_count]) + \")\")\n",
    "    print (cand + \": \" + \"{:.1%}\".format(results_perc[loop_count]) + \" (\" + str(results_votes[loop_count]) + \")\")\n",
    "    loop_count +=1"
   ]
  },
  {
   "cell_type": "code",
   "execution_count": 213,
   "metadata": {},
   "outputs": [
    {
     "name": "stdout",
     "output_type": "stream",
     "text": [
      "------------------------\n"
     ]
    }
   ],
   "source": [
    "print(f'------------------------')"
   ]
  },
  {
   "cell_type": "code",
   "execution_count": 214,
   "metadata": {},
   "outputs": [
    {
     "name": "stdout",
     "output_type": "stream",
     "text": [
      "Winner:  Khan\n"
     ]
    }
   ],
   "source": [
    "print(f'Winner: ', results_candidates[0])"
   ]
  },
  {
   "cell_type": "code",
   "execution_count": 215,
   "metadata": {},
   "outputs": [
    {
     "name": "stdout",
     "output_type": "stream",
     "text": [
      "------------------------\n"
     ]
    }
   ],
   "source": [
    "print(f'------------------------')"
   ]
  },
  {
   "cell_type": "code",
   "execution_count": 228,
   "metadata": {},
   "outputs": [],
   "source": [
    "sep = ['------------------------']\n",
    "election_results = ['Election Results']\n",
    "total_election_votes = ['Total Votes: '+ str(total_votes)]\n",
    "winner = ['Winner: '+ str(results_candidates[0])]\n",
    "\n"
   ]
  },
  {
   "cell_type": "code",
   "execution_count": 229,
   "metadata": {},
   "outputs": [],
   "source": [
    "output_file = os.path.join(\"C:\\\\Users\\\\Jeff\\\\Documents\\\\BootCamp\\\\USCRepository\\\\USCLOS201805DATA1-Class-Repository-DATA\\\\02-Homework\\\\03-Python\\\\Instructions\\\\PyPoll\\\\raw_data\\\\output.txt\")\n",
    "with open(output_file, 'w', newline= '') as datafile:\n",
    "   writer = csv.writer(datafile)\n",
    "   writer.writerow(election_results)\n",
    "   writer.writerow(sep)\n",
    "   writer.writerow(total_election_votes)\n",
    "   writer.writerow(sep)\n",
    "   writer.writerow(txt_results)\n",
    "   writer.writerow(sep)\n",
    "   writer.writerow(winner)\n",
    "   writer.writerow(sep)"
   ]
  },
  {
   "cell_type": "code",
   "execution_count": null,
   "metadata": {},
   "outputs": [],
   "source": []
  },
  {
   "cell_type": "code",
   "execution_count": null,
   "metadata": {},
   "outputs": [],
   "source": []
  }
 ],
 "metadata": {
  "kernelspec": {
   "display_name": "Python 3",
   "language": "python",
   "name": "python3"
  },
  "language_info": {
   "codemirror_mode": {
    "name": "ipython",
    "version": 3
   },
   "file_extension": ".py",
   "mimetype": "text/x-python",
   "name": "python",
   "nbconvert_exporter": "python",
   "pygments_lexer": "ipython3",
   "version": "3.6.4"
  }
 },
 "nbformat": 4,
 "nbformat_minor": 2
}
